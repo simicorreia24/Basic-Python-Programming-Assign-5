{
 "cells": [
  {
   "cell_type": "markdown",
   "metadata": {},
   "source": [
    "## Find LCM"
   ]
  },
  {
   "cell_type": "code",
   "execution_count": 17,
   "metadata": {},
   "outputs": [
    {
     "name": "stdout",
     "output_type": "stream",
     "text": [
      "Enter a number: 45\n",
      "Enter a number: 60\n",
      "The LCM of  45 and  60 is 180\n"
     ]
    }
   ],
   "source": [
    "x = int(input(\"Enter a number: \"))\n",
    "y = int(input(\"Enter a number: \"))\n",
    "if x >y:\n",
    "    a = x\n",
    "else :\n",
    "    a = y\n",
    "l = []    \n",
    "for i in range(2,a):\n",
    "    for j in range(i):\n",
    "        if x * i ==  y * j:\n",
    "            g=int(x*i)\n",
    "            l.append(g)\n",
    "print(\"The LCM of \",x ,\"and \",y ,\"is\",min(l))\n",
    "       "
   ]
  },
  {
   "cell_type": "markdown",
   "metadata": {},
   "source": [
    "## Find HCF"
   ]
  },
  {
   "cell_type": "code",
   "execution_count": 21,
   "metadata": {},
   "outputs": [
    {
     "name": "stdout",
     "output_type": "stream",
     "text": [
      "Enter a number: 60\n",
      "Enter a number: 700\n",
      "The HCF of  60 and  700 is 20\n"
     ]
    }
   ],
   "source": [
    "x = int(input(\"Enter a number: \"))\n",
    "y = int(input(\"Enter a number: \"))\n",
    "if x >y:\n",
    "    a = x\n",
    "else :\n",
    "    a = y\n",
    "l=[]    \n",
    "for i in range(2,a):\n",
    "    if x % i == 0 and  y % i ==0 :\n",
    "        g=int(i)\n",
    "        l.append(g)\n",
    "print(\"The HCF of \",x ,\"and \",y ,\"is\",max(l))"
   ]
  },
  {
   "cell_type": "markdown",
   "metadata": {},
   "source": [
    "## Convert Decimal to binary  "
   ]
  },
  {
   "cell_type": "code",
   "execution_count": 33,
   "metadata": {},
   "outputs": [
    {
     "name": "stdout",
     "output_type": "stream",
     "text": [
      "Enter number:23\n",
      "10111"
     ]
    }
   ],
   "source": [
    "a=int(input(\"Enter number:\"))\n",
    "b=[]\n",
    "while a>0:\n",
    "    c=a%2\n",
    "    b.append(c)\n",
    "    a=a//2    \n",
    "b=b[::-1]\n",
    "\n",
    "for i in b:\n",
    "    print(i,end=\"\")"
   ]
  },
  {
   "cell_type": "markdown",
   "metadata": {},
   "source": [
    "## Covert Decimal to Octal"
   ]
  },
  {
   "cell_type": "code",
   "execution_count": 34,
   "metadata": {},
   "outputs": [
    {
     "name": "stdout",
     "output_type": "stream",
     "text": [
      "Enter number:23\n",
      "27"
     ]
    }
   ],
   "source": [
    "a=int(input(\"Enter number:\"))\n",
    "b=[]\n",
    "while a>0:\n",
    "    c=a%8\n",
    "    b.append(c)\n",
    "    a=a//8 \n",
    "b=b[::-1]\n",
    "\n",
    "for i in b:\n",
    "    print(i,end=\"\")"
   ]
  },
  {
   "cell_type": "markdown",
   "metadata": {},
   "source": [
    "## Covert Decimal to Hexadecimal"
   ]
  },
  {
   "cell_type": "code",
   "execution_count": 35,
   "metadata": {
    "scrolled": true
   },
   "outputs": [
    {
     "name": "stdout",
     "output_type": "stream",
     "text": [
      "Enter number:23\n",
      "17"
     ]
    }
   ],
   "source": [
    "a=int(input(\"Enter number:\"))\n",
    "b=[]\n",
    "while a>0:\n",
    "    c=a%16\n",
    "    b.append(c)\n",
    "    a=a//16\n",
    "b=b[::-1]\n",
    "\n",
    "for i in b:\n",
    "    print(i,end=\"\")"
   ]
  },
  {
   "cell_type": "markdown",
   "metadata": {},
   "source": [
    "## ASCII value of character      "
   ]
  },
  {
   "cell_type": "code",
   "execution_count": 36,
   "metadata": {},
   "outputs": [
    {
     "name": "stdout",
     "output_type": "stream",
     "text": [
      "Enter Character: A\n",
      "65\n"
     ]
    }
   ],
   "source": [
    "Char = input(\"Enter Character: \")\n",
    "print(ord(Char))"
   ]
  },
  {
   "cell_type": "markdown",
   "metadata": {},
   "source": [
    "## Mathematical Calculator"
   ]
  },
  {
   "cell_type": "code",
   "execution_count": 37,
   "metadata": {},
   "outputs": [
    {
     "name": "stdout",
     "output_type": "stream",
     "text": [
      "choose:(+,-,*,/):/\n",
      "Enter number:4\n",
      "Enter number:2\n",
      "2.0\n"
     ]
    }
   ],
   "source": [
    "Operations=input('choose:(+,-,*,/):')\n",
    "a=int(input('Enter number:'))\n",
    "b=int(input('Enter number:'))\n",
    "if Operations==\"+\":\n",
    "    print(a+b)\n",
    "elif Operations==\"-\":\n",
    "    print(a-b)\n",
    "elif Operations==\"*\":\n",
    "    print(a*b)\n",
    "else:\n",
    "    print(a/b)"
   ]
  }
 ],
 "metadata": {
  "kernelspec": {
   "display_name": "Python 3",
   "language": "python",
   "name": "python3"
  },
  "language_info": {
   "codemirror_mode": {
    "name": "ipython",
    "version": 3
   },
   "file_extension": ".py",
   "mimetype": "text/x-python",
   "name": "python",
   "nbconvert_exporter": "python",
   "pygments_lexer": "ipython3",
   "version": "3.8.5"
  }
 },
 "nbformat": 4,
 "nbformat_minor": 4
}
